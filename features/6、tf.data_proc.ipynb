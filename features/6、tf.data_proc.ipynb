{
 "cells": [
  {
   "cell_type": "markdown",
   "metadata": {
    "collapsed": true
   },
   "source": [
    "#Tensorflow 数据处理方式"
   ]
  },
  {
   "cell_type": "markdown",
   "metadata": {},
   "source": [
    "## 使用流水线并行读取数据\n"
   ]
  },
  {
   "cell_type": "markdown",
   "metadata": {},
   "source": [
    "步骤是：<br/>\n",
    "1、创建文件名列表<br/>\n",
    "2、创建文件名队列<br/>\n",
    "3、创建Reader 和 Decoder <br/>\n",
    "4、创建样例队列<br/>"
   ]
  },
  {
   "cell_type": "markdown",
   "metadata": {},
   "source": [
    "### 1、读取csv文件"
   ]
  },
  {
   "cell_type": "code",
   "execution_count": 1,
   "metadata": {
    "collapsed": false
   },
   "outputs": [
    {
     "name": "stdout",
     "output_type": "stream",
     "text": [
      "[[   4    5]\n [  23   24]\n [2048 4096]\n [1024 2048]]\n[[   2    3]\n [  23   24]\n [2048 4096]\n [1024 2048]]\n[[   0    1]\n [  23   24]\n [2048 4096]\n [1024 2048]]\n"
     ]
    }
   ],
   "source": [
    "import tensorflow as tf\n",
    "import os\n",
    "import features.utils as utils\n",
    "\n",
    "\n",
    "\n",
    "#创建文件名队列\n",
    "file_path = os.path.join(utils.localDir(), '../data/csv_read_test/')\n",
    "filename_queue = tf.train.string_input_producer(\n",
    "    [os.path.join(file_path, 'file_0.csv'),\n",
    "     os.path.join(file_path, 'file_1.csv'),\n",
    "     os.path.join(file_path, 'file_2.csv')], num_epochs=1, shuffle=True)\n",
    "\n",
    "# 创建读取csv的读取器\n",
    "reader = tf.TextLineReader(skip_header_lines=1)\n",
    "# 读取第一条数据\n",
    "# key, value = reader.read(filename_queue)\n",
    "_, value = reader.read_up_to(filename_queue, 2)\n",
    "# 设置默认值\n",
    "id, age, income, outgo = tf.decode_csv(value, record_defaults=[[0], [0], [0], [0]], field_delim=\",\")\n",
    "# 将所有特征向量组合为 一条记录\n",
    "features = tf.stack([id, age, income, outgo])\n",
    "with tf.Session() as sess:\n",
    "    sess.run(tf.local_variables_initializer())\n",
    "    # sess.run(tf.global_variables_initializer())\n",
    "    tf.train.start_queue_runners()\n",
    "    for i in range(3):\n",
    "        print(sess.run(features))\n"
   ]
  },
  {
   "cell_type": "markdown",
   "metadata": {},
   "source": [
    "### 2、读取和存储TFRecords"
   ]
  },
  {
   "cell_type": "code",
   "execution_count": 2,
   "metadata": {
    "collapsed": true
   },
   "outputs": [],
   "source": [
    "# 写入文件\n",
    "write = tf.python_io.TFRecordWriter(os.path.join(utils.localDir(), '../data/csv_read_test/stat.tfrecord'))\n",
    "for i in range(1, 3):\n",
    "    #创建样例\n",
    "    example = tf.train.Example(features=tf.train.Features(\n",
    "        feature={\n",
    "            \"id\": tf.train.Feature(int64_list=tf.train.Int64List(value=[i])),\n",
    "            \"age\": tf.train.Feature(int64_list=tf.train.Int64List(value=[i * 24])),\n",
    "            \"income\": tf.train.Feature(float_list=tf.train.FloatList(value=[i * 2048.0])),\n",
    "            \"outgo\": tf.train.Feature(float_list=tf.train.FloatList(value=[i * 1024.0])),\n",
    "        }\n",
    "    ))\n",
    "    write.write(example.SerializeToString())\n",
    "write.close()\n"
   ]
  },
  {
   "cell_type": "code",
   "execution_count": 3,
   "metadata": {},
   "outputs": [
    {
     "name": "stdout",
     "output_type": "stream",
     "text": [
      "{'age': 24, 'id': 1, 'income': 2048.0, 'outgo': 1024.0}\n{'age': 48, 'id': 2, 'income': 4096.0, 'outgo': 2048.0}\n{'age': 24, 'id': 1, 'income': 2048.0, 'outgo': 1024.0}\n{'age': 48, 'id': 2, 'income': 4096.0, 'outgo': 2048.0}\nCatch OutOfRangeError\nFinish reading\n"
     ]
    }
   ],
   "source": [
    "# 读取文件（异常捕捉）\n",
    "filename_queue = tf.train.string_input_producer([os.path.join(utils.localDir(), '../data/csv_read_test/stat.tfrecord')],\n",
    "                                                num_epochs=2)\n",
    "reader = tf.TFRecordReader()\n",
    "# 取出一条序列化的样例\n",
    "_, example = reader.read(filename_queue)\n",
    "features = tf.parse_single_example(example,\n",
    "                                   features={\n",
    "                                       \"id\": tf.FixedLenFeature([], tf.int64),\n",
    "                                       \"age\": tf.FixedLenFeature([], tf.int64),\n",
    "                                       \"income\": tf.FixedLenFeature([], tf.float32),\n",
    "                                       \"outgo\": tf.FixedLenFeature([], tf.float32),\n",
    "                                   })\n",
    "sess = tf.Session()\n",
    "# 使用 Coordinator 需要对local_variables_initializer 进行初始化\n",
    "sess.run(tf.local_variables_initializer())\n",
    "# 创建协调器\n",
    "coord = tf.train.Coordinator()\n",
    "\n",
    "threads = tf.train.start_queue_runners(sess=sess, coord=coord)\n",
    "try:\n",
    "    for i in range(10):\n",
    "        if not coord.should_stop():\n",
    "            print(sess.run(features))\n",
    "except tf.errors.OutOfRangeError:\n",
    "    print(\"Catch OutOfRangeError\")\n",
    "finally:\n",
    "    # 请求停止所有后台线程\n",
    "    coord.request_stop()\n",
    "    print(\"Finish reading\")\n",
    "# 等待所有后台程序安全退出\n",
    "coord.join(threads)\n",
    "sess.close()\n"
   ]
  },
  {
   "cell_type": "markdown",
   "metadata": {},
   "source": [
    "### 3、创建批样例数据\n"
   ]
  },
  {
   "cell_type": "code",
   "execution_count": 4,
   "metadata": {},
   "outputs": [
    {
     "name": "stdout",
     "output_type": "stream",
     "text": [
      "[[   0   23 2048 1024]\n [   5   24 4096 2048]\n [   5   24 4096 2048]\n [   1   24 4096 2048]\n [   2   23 2048 1024]\n [   3   24 4096 2048]]\n[[   1   24 4096 2048]\n [   4   23 2048 1024]\n [   4   23 2048 1024]\n [   0   23 2048 1024]\n [   4   23 2048 1024]\n [   2   23 2048 1024]]\n[[   5   24 4096 2048]\n [   2   23 2048 1024]\n [   3   24 4096 2048]\n [   3   24 4096 2048]\n [   0   23 2048 1024]\n [   1   24 4096 2048]]\nCatch out of range\nFinish reading\n"
     ]
    }
   ],
   "source": [
    "#创建文件名队列\n",
    "file_path = os.path.join(utils.localDir(), '../data/csv_read_test/')\n",
    "filename_queue = tf.train.string_input_producer(\n",
    "    [os.path.join(file_path, 'file_0.csv'),\n",
    "     os.path.join(file_path, 'file_1.csv'),\n",
    "     os.path.join(file_path, 'file_2.csv')], num_epochs=3, shuffle=True)\n",
    "\n",
    "# 创建读取csv的读取器\n",
    "reader = tf.TextLineReader(skip_header_lines=1)\n",
    "# 读取第一条数据\n",
    "_, value = reader.read(filename_queue)\n",
    "# 设置默认值\n",
    "id, age, income, outgo = tf.decode_csv(value, record_defaults=[[0], [0], [0], [0]], field_delim=\",\")\n",
    "# 将所有特征向量组合为 一条记录\n",
    "features = tf.stack([id, age, income, outgo])\n",
    "example_batch = tf.train.shuffle_batch([features], batch_size=6, capacity=18, min_after_dequeue=6)\n",
    "# 初始化\n",
    "sess = tf.Session()\n",
    "init_op = tf.group(tf.global_variables_initializer(), tf.local_variables_initializer())\n",
    "sess.run(init_op)\n",
    "# 创建协调器\n",
    "coord = tf.train.Coordinator()\n",
    "threads = tf.train.start_queue_runners(sess=sess, coord=coord)\n",
    "\n",
    "try:\n",
    "    for _ in range(1000):\n",
    "        if not coord.should_stop():\n",
    "            print(sess.run(example_batch))\n",
    "except tf.errors.OutOfRangeError:\n",
    "    print(\"Catch out of range\")\n",
    "finally:\n",
    "    coord.request_stop()\n",
    "    print(\"Finish reading\")\n",
    "coord.join(threads)\n",
    "sess.close()"
   ]
  },
  {
   "cell_type": "code",
   "execution_count": null,
   "metadata": {},
   "outputs": [],
   "source": []
  }
 ],
 "metadata": {
  "kernelspec": {
   "display_name": "Python 2",
   "language": "python",
   "name": "python2"
  },
  "language_info": {
   "codemirror_mode": {
    "name": "ipython",
    "version": 2
   },
   "file_extension": ".py",
   "mimetype": "text/x-python",
   "name": "python",
   "nbconvert_exporter": "python",
   "pygments_lexer": "ipython2",
   "version": "2.7.6"
  }
 },
 "nbformat": 4,
 "nbformat_minor": 0
}
