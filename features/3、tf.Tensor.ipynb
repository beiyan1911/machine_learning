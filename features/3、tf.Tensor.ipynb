{
 "cells": [
  {
   "cell_type": "markdown",
   "metadata": {
    "collapsed": true
   },
   "source": [
    "# 常见张量用法\n"
   ]
  },
  {
   "cell_type": "markdown",
   "metadata": {},
   "source": [
    "#获取 tf.Tensor 对象的阶"
   ]
  },
  {
   "cell_type": "code",
   "execution_count": 1,
   "metadata": {},
   "outputs": [
    {
     "name": "stdout",
     "output_type": "stream",
     "text": [
      "Tensor(\"Rank:0\", shape=(), dtype=int32)\n4\n"
     ]
    }
   ],
   "source": [
    "import tensorflow as tf\n",
    "\n",
    "my_images = tf.zeros([10, 299, 299, 3])\n",
    "r = tf.rank(my_images)\n",
    "print(r)\n",
    "sess = tf.Session()\n",
    "print(sess.run(r))\n"
   ]
  },
  {
   "cell_type": "code",
   "execution_count": 2,
   "metadata": {},
   "outputs": [
    {
     "name": "stdout",
     "output_type": "stream",
     "text": [
      "[3, array([2, 1], dtype=int32), array([[2],\n       [1]], dtype=int32), 3]\n"
     ]
    }
   ],
   "source": [
    "# 稀疏张量的基本操作\n",
    "x = tf.SparseTensor(indices=[[0, 0], [0, 2], [1, 1]], values=[1, 1, 1], dense_shape=[2, 3])\n",
    "reduce_x = [tf.sparse_reduce_sum(x),\n",
    "            tf.sparse_reduce_sum(x, axis=1),\n",
    "            tf.sparse_reduce_sum(x, axis=1, keep_dims=True),\n",
    "            tf.sparse_reduce_sum(x, axis=[0, 1])]\n",
    "with tf.Session() as sess:\n",
    "    print(sess.run(reduce_x))\n"
   ]
  },
  {
   "cell_type": "code",
   "execution_count": 3,
   "metadata": {},
   "outputs": [
    {
     "name": "stdout",
     "output_type": "stream",
     "text": [
      "<tensorflow.python.framework.ops.Graph object at 0x10e92e240>\n\n"
     ]
    }
   ],
   "source": [
    "# 操作\n",
    "a = tf.Variable(1.0, name='a')\n",
    "print(a.graph)\n",
    "print(a.device)"
   ]
  },
  {
   "cell_type": "code",
   "execution_count": null,
   "metadata": {},
   "outputs": [],
   "source": []
  }
 ],
 "metadata": {
  "kernelspec": {
   "display_name": "Python 2",
   "language": "python",
   "name": "python2"
  },
  "language_info": {
   "codemirror_mode": {
    "name": "ipython",
    "version": 2
   },
   "file_extension": ".py",
   "mimetype": "text/x-python",
   "name": "python",
   "nbconvert_exporter": "python",
   "pygments_lexer": "ipython2",
   "version": "2.7.6"
  }
 },
 "nbformat": 4,
 "nbformat_minor": 0
}
